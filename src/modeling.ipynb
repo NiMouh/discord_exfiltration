{
 "cells": [
  {
   "cell_type": "markdown",
   "metadata": {},
   "source": [
    "### Discord Exfiltration - Anomaly Detection"
   ]
  },
  {
   "cell_type": "code",
   "execution_count": null,
   "metadata": {},
   "outputs": [],
   "source": [
    "import numpy as np\n",
    "import pandas as pd\n",
    "from sklearn.model_selection import train_test_split\n",
    "from sklearn.preprocessing import MinMaxScaler\n",
    "from sklearn.svm import OneClassSVM"
   ]
  },
  {
   "cell_type": "markdown",
   "metadata": {},
   "source": [
    "#### Dataset import and cleaning"
   ]
  },
  {
   "cell_type": "code",
   "execution_count": 35,
   "metadata": {},
   "outputs": [
    {
     "name": "stdout",
     "output_type": "stream",
     "text": [
      "Shape:  (1207, 23)\n"
     ]
    },
    {
     "data": {
      "text/html": [
       "<div>\n",
       "<style scoped>\n",
       "    .dataframe tbody tr th:only-of-type {\n",
       "        vertical-align: middle;\n",
       "    }\n",
       "\n",
       "    .dataframe tbody tr th {\n",
       "        vertical-align: top;\n",
       "    }\n",
       "\n",
       "    .dataframe thead th {\n",
       "        text-align: right;\n",
       "    }\n",
       "</style>\n",
       "<table border=\"1\" class=\"dataframe\">\n",
       "  <thead>\n",
       "    <tr style=\"text-align: right;\">\n",
       "      <th></th>\n",
       "      <th>mean_silence_duration</th>\n",
       "      <th>variance_silence_duration</th>\n",
       "      <th>mean_activity_duration</th>\n",
       "      <th>variance_activity_duration</th>\n",
       "      <th>30_quartile_activity_duration</th>\n",
       "      <th>60_quartile_activity_duration</th>\n",
       "      <th>90_quartile_activity_duration</th>\n",
       "      <th>tcp_upload_bytes_std_dev</th>\n",
       "      <th>tcp_download_bytes_std_dev</th>\n",
       "      <th>udp_upload_bytes_std_dev</th>\n",
       "      <th>...</th>\n",
       "      <th>udp_upload_bytes_mean</th>\n",
       "      <th>udp_download_bytes_mean</th>\n",
       "      <th>95_percentile_upload_bytes</th>\n",
       "      <th>98_percentile_upload_bytes</th>\n",
       "      <th>95_percentile_download_bytes</th>\n",
       "      <th>98_percentile_download_bytes</th>\n",
       "      <th>bytes_mean</th>\n",
       "      <th>bytes_std_dev</th>\n",
       "      <th>packets_mean</th>\n",
       "      <th>packets_std_dev</th>\n",
       "    </tr>\n",
       "  </thead>\n",
       "  <tbody>\n",
       "    <tr>\n",
       "      <th>0</th>\n",
       "      <td>8.258</td>\n",
       "      <td>66.450</td>\n",
       "      <td>1.419</td>\n",
       "      <td>0.631</td>\n",
       "      <td>1.0</td>\n",
       "      <td>1.0</td>\n",
       "      <td>3.0</td>\n",
       "      <td>123.963</td>\n",
       "      <td>676.990</td>\n",
       "      <td>2305.174</td>\n",
       "      <td>...</td>\n",
       "      <td>470.280</td>\n",
       "      <td>2024.587</td>\n",
       "      <td>2686.65</td>\n",
       "      <td>7452.08</td>\n",
       "      <td>979.85</td>\n",
       "      <td>3755.04</td>\n",
       "      <td>2615.150</td>\n",
       "      <td>28680.764</td>\n",
       "      <td>3.880</td>\n",
       "      <td>29.391</td>\n",
       "    </tr>\n",
       "    <tr>\n",
       "      <th>1</th>\n",
       "      <td>10.680</td>\n",
       "      <td>78.138</td>\n",
       "      <td>1.375</td>\n",
       "      <td>0.651</td>\n",
       "      <td>1.0</td>\n",
       "      <td>1.0</td>\n",
       "      <td>2.7</td>\n",
       "      <td>123.314</td>\n",
       "      <td>677.065</td>\n",
       "      <td>2040.466</td>\n",
       "      <td>...</td>\n",
       "      <td>311.480</td>\n",
       "      <td>1830.363</td>\n",
       "      <td>200.50</td>\n",
       "      <td>4722.90</td>\n",
       "      <td>654.70</td>\n",
       "      <td>2588.92</td>\n",
       "      <td>2261.493</td>\n",
       "      <td>28557.129</td>\n",
       "      <td>3.237</td>\n",
       "      <td>29.007</td>\n",
       "    </tr>\n",
       "    <tr>\n",
       "      <th>2</th>\n",
       "      <td>10.920</td>\n",
       "      <td>82.714</td>\n",
       "      <td>1.125</td>\n",
       "      <td>0.193</td>\n",
       "      <td>1.0</td>\n",
       "      <td>1.0</td>\n",
       "      <td>1.0</td>\n",
       "      <td>121.537</td>\n",
       "      <td>673.114</td>\n",
       "      <td>1046.289</td>\n",
       "      <td>...</td>\n",
       "      <td>116.197</td>\n",
       "      <td>79.370</td>\n",
       "      <td>120.55</td>\n",
       "      <td>1385.36</td>\n",
       "      <td>416.45</td>\n",
       "      <td>701.62</td>\n",
       "      <td>307.027</td>\n",
       "      <td>2503.127</td>\n",
       "      <td>1.003</td>\n",
       "      <td>4.394</td>\n",
       "    </tr>\n",
       "    <tr>\n",
       "      <th>3</th>\n",
       "      <td>11.500</td>\n",
       "      <td>77.667</td>\n",
       "      <td>1.043</td>\n",
       "      <td>0.042</td>\n",
       "      <td>1.0</td>\n",
       "      <td>1.0</td>\n",
       "      <td>1.0</td>\n",
       "      <td>40.085</td>\n",
       "      <td>103.280</td>\n",
       "      <td>643.053</td>\n",
       "      <td>...</td>\n",
       "      <td>68.237</td>\n",
       "      <td>34.377</td>\n",
       "      <td>92.45</td>\n",
       "      <td>132.58</td>\n",
       "      <td>266.10</td>\n",
       "      <td>552.72</td>\n",
       "      <td>147.790</td>\n",
       "      <td>1067.640</td>\n",
       "      <td>0.693</td>\n",
       "      <td>2.708</td>\n",
       "    </tr>\n",
       "    <tr>\n",
       "      <th>4</th>\n",
       "      <td>12.043</td>\n",
       "      <td>122.737</td>\n",
       "      <td>1.045</td>\n",
       "      <td>0.043</td>\n",
       "      <td>1.0</td>\n",
       "      <td>1.0</td>\n",
       "      <td>1.0</td>\n",
       "      <td>39.886</td>\n",
       "      <td>97.910</td>\n",
       "      <td>643.053</td>\n",
       "      <td>...</td>\n",
       "      <td>68.237</td>\n",
       "      <td>34.377</td>\n",
       "      <td>91.00</td>\n",
       "      <td>132.58</td>\n",
       "      <td>248.15</td>\n",
       "      <td>552.72</td>\n",
       "      <td>145.800</td>\n",
       "      <td>1067.135</td>\n",
       "      <td>0.683</td>\n",
       "      <td>2.685</td>\n",
       "    </tr>\n",
       "  </tbody>\n",
       "</table>\n",
       "<p>5 rows × 23 columns</p>\n",
       "</div>"
      ],
      "text/plain": [
       "   mean_silence_duration  variance_silence_duration  mean_activity_duration  \\\n",
       "0                  8.258                     66.450                   1.419   \n",
       "1                 10.680                     78.138                   1.375   \n",
       "2                 10.920                     82.714                   1.125   \n",
       "3                 11.500                     77.667                   1.043   \n",
       "4                 12.043                    122.737                   1.045   \n",
       "\n",
       "   variance_activity_duration  30_quartile_activity_duration  \\\n",
       "0                       0.631                            1.0   \n",
       "1                       0.651                            1.0   \n",
       "2                       0.193                            1.0   \n",
       "3                       0.042                            1.0   \n",
       "4                       0.043                            1.0   \n",
       "\n",
       "   60_quartile_activity_duration  90_quartile_activity_duration  \\\n",
       "0                            1.0                            3.0   \n",
       "1                            1.0                            2.7   \n",
       "2                            1.0                            1.0   \n",
       "3                            1.0                            1.0   \n",
       "4                            1.0                            1.0   \n",
       "\n",
       "   tcp_upload_bytes_std_dev  tcp_download_bytes_std_dev  \\\n",
       "0                   123.963                     676.990   \n",
       "1                   123.314                     677.065   \n",
       "2                   121.537                     673.114   \n",
       "3                    40.085                     103.280   \n",
       "4                    39.886                      97.910   \n",
       "\n",
       "   udp_upload_bytes_std_dev  ...  udp_upload_bytes_mean  \\\n",
       "0                  2305.174  ...                470.280   \n",
       "1                  2040.466  ...                311.480   \n",
       "2                  1046.289  ...                116.197   \n",
       "3                   643.053  ...                 68.237   \n",
       "4                   643.053  ...                 68.237   \n",
       "\n",
       "   udp_download_bytes_mean  95_percentile_upload_bytes  \\\n",
       "0                 2024.587                     2686.65   \n",
       "1                 1830.363                      200.50   \n",
       "2                   79.370                      120.55   \n",
       "3                   34.377                       92.45   \n",
       "4                   34.377                       91.00   \n",
       "\n",
       "   98_percentile_upload_bytes  95_percentile_download_bytes  \\\n",
       "0                     7452.08                        979.85   \n",
       "1                     4722.90                        654.70   \n",
       "2                     1385.36                        416.45   \n",
       "3                      132.58                        266.10   \n",
       "4                      132.58                        248.15   \n",
       "\n",
       "   98_percentile_download_bytes  bytes_mean  bytes_std_dev  packets_mean  \\\n",
       "0                       3755.04    2615.150      28680.764         3.880   \n",
       "1                       2588.92    2261.493      28557.129         3.237   \n",
       "2                        701.62     307.027       2503.127         1.003   \n",
       "3                        552.72     147.790       1067.640         0.693   \n",
       "4                        552.72     145.800       1067.135         0.683   \n",
       "\n",
       "   packets_std_dev  \n",
       "0           29.391  \n",
       "1           29.007  \n",
       "2            4.394  \n",
       "3            2.708  \n",
       "4            2.685  \n",
       "\n",
       "[5 rows x 23 columns]"
      ]
     },
     "execution_count": 35,
     "metadata": {},
     "output_type": "execute_result"
    }
   ],
   "source": [
    "# Read the CSV file (remove the index column)\n",
    "discord_observation_dataset = pd.read_csv('tests/alex_sample2_features_m3_w[300]_s30.csv', delimiter=',')\n",
    "\n",
    "# Display the first few rows of the dataframe\n",
    "print(\"Shape: \",discord_observation_dataset.shape)\n",
    "discord_observation_dataset.head()"
   ]
  },
  {
   "cell_type": "code",
   "execution_count": 36,
   "metadata": {},
   "outputs": [
    {
     "name": "stdout",
     "output_type": "stream",
     "text": [
      "Discord Before Cleaning:  (1207, 23)\n",
      "Discord After Cleaning (1207, 23)\n"
     ]
    }
   ],
   "source": [
    "print(\"Discord Before Cleaning: \",discord_observation_dataset.shape)\n",
    "\n",
    "# Remove all the rows with 'mean_activity_duration' == 0\n",
    "discord_observation_dataset = discord_observation_dataset[discord_observation_dataset['mean_activity_duration'] != 0]\n",
    "\n",
    "print(\"Discord After Cleaning\", discord_observation_dataset.shape)"
   ]
  },
  {
   "cell_type": "markdown",
   "metadata": {},
   "source": [
    "#### Dataset Analysis"
   ]
  },
  {
   "cell_type": "code",
   "execution_count": null,
   "metadata": {},
   "outputs": [],
   "source": []
  },
  {
   "cell_type": "markdown",
   "metadata": {},
   "source": [
    "#### Normalization and Split Process"
   ]
  },
  {
   "cell_type": "code",
   "execution_count": null,
   "metadata": {},
   "outputs": [],
   "source": [
    "# Perform normalization of the dataset (MinMaxScaler)\n",
    "scaler = MinMaxScaler()\n",
    "normalized_discord_observation_dataset = scaler.fit_transform(discord_observation_dataset)"
   ]
  },
  {
   "cell_type": "markdown",
   "metadata": {},
   "source": [
    "#### Model Training\n",
    "\n",
    "Models used:\n",
    "- Autoencoder\n",
    "- Isolation Forest\n",
    "- One-Class SVM"
   ]
  },
  {
   "cell_type": "markdown",
   "metadata": {},
   "source": [
    "##### One-Class SVM"
   ]
  },
  {
   "cell_type": "code",
   "execution_count": null,
   "metadata": {},
   "outputs": [],
   "source": [
    "# Extract the features from the dataframe\n",
    "X = discord_observation_dataset.values\n",
    "\n",
    "# Initialize the OneClassSVM model\n",
    "ocsvm = OneClassSVM(kernel='rbf', gamma='auto', nu=0.01)\n",
    "\n",
    "# Train the model\n",
    "ocsvm.fit(X)\n",
    "\n",
    "# Print the model\n",
    "print(ocsvm)"
   ]
  },
  {
   "cell_type": "markdown",
   "metadata": {},
   "source": [
    "##### Isolation Forest"
   ]
  },
  {
   "cell_type": "code",
   "execution_count": null,
   "metadata": {},
   "outputs": [],
   "source": []
  },
  {
   "cell_type": "markdown",
   "metadata": {},
   "source": [
    "##### Autoencoder"
   ]
  },
  {
   "cell_type": "code",
   "execution_count": null,
   "metadata": {},
   "outputs": [],
   "source": []
  },
  {
   "cell_type": "markdown",
   "metadata": {},
   "source": [
    "#### Model Evaluation"
   ]
  },
  {
   "cell_type": "code",
   "execution_count": null,
   "metadata": {},
   "outputs": [],
   "source": []
  }
 ],
 "metadata": {
  "kernelspec": {
   "display_name": "venv",
   "language": "python",
   "name": "python3"
  },
  "language_info": {
   "codemirror_mode": {
    "name": "ipython",
    "version": 3
   },
   "file_extension": ".py",
   "mimetype": "text/x-python",
   "name": "python",
   "nbconvert_exporter": "python",
   "pygments_lexer": "ipython3",
   "version": "3.12.0"
  }
 },
 "nbformat": 4,
 "nbformat_minor": 2
}
